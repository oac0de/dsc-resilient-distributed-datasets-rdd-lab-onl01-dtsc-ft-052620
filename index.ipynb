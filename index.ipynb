{
  "nbformat": 4,
  "nbformat_minor": 0,
  "metadata": {
    "kernelspec": {
      "display_name": "Python 3",
      "language": "python",
      "name": "python3"
    },
    "language_info": {
      "codemirror_mode": {
        "name": "ipython",
        "version": 3
      },
      "file_extension": ".py",
      "mimetype": "text/x-python",
      "name": "python",
      "nbconvert_exporter": "python",
      "pygments_lexer": "ipython3",
      "version": "3.7.3"
    },
    "colab": {
      "name": "index.ipynb",
      "provenance": []
    }
  },
  "cells": [
    {
      "cell_type": "markdown",
      "metadata": {
        "id": "UIEHUPErRzLK",
        "colab_type": "text"
      },
      "source": [
        "## Resilient Distributed Datasets (RDDs) - Lab\n",
        "\n",
        "Resilient Distributed Datasets (RDD) are fundamental data structures of Spark. An RDD is essentially the Spark representation of a set of data, spread across multiple machines, with APIs to let you act on it. An RDD can come from any data source, e.g. text files, a database, a JSON file, etc.\n",
        "\n",
        "\n",
        "## Objectives\n",
        "\n",
        "You will be able to:\n",
        "\n",
        "- Apply the map(func) transformation to a given function on all elements of an RDD in different partitions \n",
        "- Apply a map transformation for all elements of an RDD \n",
        "- Compare the difference between a transformation and an action within RDDs \n",
        "- Use collect(), count(), and take() actions to trigger spark transformations  \n",
        "- Use filter to select data that meets certain specifications within an RDD \n",
        "- Set number of partitions for parallelizing RDDs \n",
        "- Create RDDs from Python collections \n"
      ]
    },
    {
      "cell_type": "markdown",
      "metadata": {
        "id": "7-526ouLRzLL",
        "colab_type": "text"
      },
      "source": [
        "## What are RDDs? \n",
        "\n",
        "To get a better understanding of RDDs, let's break down each one of the components of the acronym RDD:\n",
        "\n",
        "Resilient: RDDs are considered \"resilient\" because they have built-in fault tolerance. This means that even if one of the nodes goes offline, RDDs will be able to restore the data. This is already a huge advantage compared to standard storage. If a standard computer dies while performing an operation, all of its memory will be lost in the process. With RDDs, multiple nodes can go offline, and the action will still be held in working memory.\n",
        "\n",
        "Distributed: The data is contained on multiple nodes of a cluster-computing operation. It is efficiently partitioned to allow for parallelism.\n",
        "\n",
        "Dataset: The dataset has been * partitioned * across the multiple nodes. \n",
        "\n",
        "RDDs are the building block upon which more high-level Spark operations are based upon. Chances are, if you are performing an action using Spark, the operation involves RDDs. \n",
        "\n",
        "\n",
        "\n",
        "Key Characteristics of RDDs:\n",
        "\n",
        "- Immutable: Once an RDD is created, it cannot be modified. \n",
        "- Lazily Evaluated: RDDs will not be evaluated until an action is triggered. Essentially, when RDDs are created, they are programmed to perform some action, but that function will not get activated until it is explicitly called. The reason for lazy evaluation is that allows users to organize the actions of their Spark program into smaller actions. It also saves unnecessary computation and memory load.\n",
        "- In-Memory: The operations in Spark are performed in-memory rather than in the database. This is what allows Spark to perform fast operations with very large quantities of data.\n",
        "\n",
        "\n"
      ]
    },
    {
      "cell_type": "markdown",
      "metadata": {
        "id": "06H2qWM8RzLM",
        "colab_type": "text"
      },
      "source": [
        "### RDD Transformations vs Actions\n",
        "\n",
        "In Spark, we first create a __base RDD__ and then apply one or more transformations to that base RDD following our processing needs. Being immutable means, **once an RDD is created, it cannot be changed**. As a result, **each transformation of an RDD creates a new RDD**. Finally, we can apply one or more **actions** to the RDDs. Spark uses lazy evaluation, so transformations are not actually executed until an action occurs.\n",
        "\n",
        "\n",
        "<img src=\"https://github.com/oac0de/dsc-resilient-distributed-datasets-rdd-lab-onl01-dtsc-ft-052620/blob/master/images/rdd_diagram.png?raw=1\" width=500>"
      ]
    },
    {
      "cell_type": "markdown",
      "metadata": {
        "id": "-q34eMG5RzLN",
        "colab_type": "text"
      },
      "source": [
        "### Transformations\n",
        "\n",
        "Transformations create a new dataset from an existing one by passing each dataset element through a function and returning a new RDD representing the results. In short, creating an RDD from an existing RDD is ‘transformation’.\n",
        "All transformations in Spark are lazy. They do not compute their results right away. Instead, they just remember the transformations applied to some base dataset (e.g. a file). The transformations are only computed when an action requires a result that needs to be returned to the driver program.\n",
        "A transformation is an RDD that returns another RDD, like map, flatMap, filter, reduceByKey, join, cogroup, etc.\n",
        "\n",
        "### Actions\n",
        "Actions return final results of RDD computations. Actions trigger execution using lineage graph to load the data into original RDD and carry out all intermediate transformations and return the final results to the driver program or writes it out to the file system. An action returns a value (to a Spark driver - the user program).\n",
        "\n",
        "Here are some key transformations and actions that we will explore.\n",
        "\n",
        "\n",
        "| Transformations   | Actions       |\n",
        "|-------------------|---------------|\n",
        "| map(func)         | reduce(func)  |\n",
        "| filter(func)      | collect()     |\n",
        "| groupByKey()      | count()       |\n",
        "| reduceByKey(func) | first()       |\n",
        "| mapValues(func)   | take()        |\n",
        "| sample()          | countByKey()  |\n",
        "| distinct()        | foreach(func) |\n",
        "| sortByKey()       |               |\n"
      ]
    },
    {
      "cell_type": "markdown",
      "metadata": {
        "id": "H_QcW_wPRzLO",
        "colab_type": "text"
      },
      "source": [
        "Let's see how transformations and actions work through a simple example. In this example, we will perform several actions and transformations on RDDs in order to obtain a better understanding of Spark processing. \n",
        "\n",
        "### Create a Python collection \n",
        "\n",
        "We need some data to start experimenting with RDDs. Let's create some sample data and see how RDDs handle it. To practice working with RDDs, we're going to use a simple Python list.\n",
        "\n",
        "- Create a Python list `data` of integers between 1 and 1000 using the `range()` function. \n",
        "- Sanity check: confirm the length of the list (it should be 1000)"
      ]
    },
    {
      "cell_type": "code",
      "metadata": {
        "id": "0Pn3HHlARzLP",
        "colab_type": "code",
        "colab": {
          "base_uri": "https://localhost:8080/",
          "height": 34
        },
        "outputId": "3644b2b9-78ea-431a-c7c4-d687fb160cf4"
      },
      "source": [
        "data = list(range(1, 1001))\n",
        "len(data)\n",
        "\n",
        "# 1000"
      ],
      "execution_count": 3,
      "outputs": [
        {
          "output_type": "execute_result",
          "data": {
            "text/plain": [
              "1000"
            ]
          },
          "metadata": {
            "tags": []
          },
          "execution_count": 3
        }
      ]
    },
    {
      "cell_type": "markdown",
      "metadata": {
        "id": "bEV0AWcbRzLT",
        "colab_type": "text"
      },
      "source": [
        "### Initialize an RDD\n",
        "\n",
        "When using Spark to make computations, datasets are treated as lists of entries. Those lists are split into different partitions across different cores or different computers. Each list of data held in memory is a partition of the RDD. The reason why Spark is able to make computations far faster than other big data processing languages is that it allows all data to be stored __in-memory__, which allows for easy access to the data and, in turn, high-speed processing. Here is an example of how the alphabet might be split into different RDDs and held across a distributed collection of nodes:\n",
        "\n",
        "<img src =\"./images/partitions_1.png\" width =\"500\">  \n",
        "To initialize an RDD, first import `pyspark` and then create a SparkContext assigned to the variable `sc`. Use `'local[*]'` as the master."
      ]
    },
    {
      "cell_type": "code",
      "metadata": {
        "id": "U93RuCMLR3XV",
        "colab_type": "code",
        "colab": {}
      },
      "source": [
        "!apt-get install openjdk-8-jdk-headless -qq > /dev/null\n",
        "!wget -q https://archive.apache.org/dist/spark/spark-2.4.5/spark-2.4.5-bin-hadoop2.7.tgz\n",
        "!tar xf spark-2.4.5-bin-hadoop2.7.tgz\n",
        "!pip install -q findspark"
      ],
      "execution_count": 1,
      "outputs": []
    },
    {
      "cell_type": "code",
      "metadata": {
        "id": "YMBIzP6KSUQ-",
        "colab_type": "code",
        "colab": {
          "base_uri": "https://localhost:8080/",
          "height": 258
        },
        "outputId": "abb6d13b-09ea-447f-8378-14b362634bf0"
      },
      "source": [
        "!pip install pyspark==2.4.5"
      ],
      "execution_count": 5,
      "outputs": [
        {
          "output_type": "stream",
          "text": [
            "Collecting pyspark==2.4.5\n",
            "\u001b[?25l  Downloading https://files.pythonhosted.org/packages/9a/5a/271c416c1c2185b6cb0151b29a91fff6fcaed80173c8584ff6d20e46b465/pyspark-2.4.5.tar.gz (217.8MB)\n",
            "\u001b[K     |████████████████████████████████| 217.8MB 59kB/s \n",
            "\u001b[?25hCollecting py4j==0.10.7\n",
            "\u001b[?25l  Downloading https://files.pythonhosted.org/packages/e3/53/c737818eb9a7dc32a7cd4f1396e787bd94200c3997c72c1dbe028587bd76/py4j-0.10.7-py2.py3-none-any.whl (197kB)\n",
            "\u001b[K     |████████████████████████████████| 204kB 45.6MB/s \n",
            "\u001b[?25hBuilding wheels for collected packages: pyspark\n",
            "  Building wheel for pyspark (setup.py) ... \u001b[?25l\u001b[?25hdone\n",
            "  Created wheel for pyspark: filename=pyspark-2.4.5-py2.py3-none-any.whl size=218257928 sha256=f17e7cc667dd9337646ab1453b6d92db53885851cc4738e146847fbfc4d03d5b\n",
            "  Stored in directory: /root/.cache/pip/wheels/bf/db/04/61d66a5939364e756eb1c1be4ec5bdce6e04047fc7929a3c3c\n",
            "Successfully built pyspark\n",
            "Installing collected packages: py4j, pyspark\n",
            "Successfully installed py4j-0.10.7 pyspark-2.4.5\n"
          ],
          "name": "stdout"
        }
      ]
    },
    {
      "cell_type": "code",
      "metadata": {
        "id": "MDHv36ZiSUd9",
        "colab_type": "code",
        "colab": {}
      },
      "source": [
        "import os\n",
        "# /usr/lib/jvm/java-8-openjdk-amd64\n",
        "os.environ[\"JAVA_HOME\"] = \"/usr/lib/jvm/java-8-openjdk-amd64\"\n",
        "# /content/spark-2.4.5-bin-hadoop2.7\n",
        "os.environ[\"SPARK_HOME\"] = \"/content/spark-2.4.5-bin-hadoop2.7\""
      ],
      "execution_count": 6,
      "outputs": []
    },
    {
      "cell_type": "code",
      "metadata": {
        "id": "ZrbS4suMSUmW",
        "colab_type": "code",
        "colab": {}
      },
      "source": [
        "import pyspark\n",
        "sc = pyspark.SparkContext('local[*]')"
      ],
      "execution_count": 7,
      "outputs": []
    },
    {
      "cell_type": "markdown",
      "metadata": {
        "id": "M61656tLRzLW",
        "colab_type": "text"
      },
      "source": [
        "Once you've created the SparkContext, you can use the `.parallelize()` method to create an RDD that will distribute the list of numbers across multiple cores. Here, create one called `rdd` with 10 partitions using `data` as the collection you are parallelizing."
      ]
    },
    {
      "cell_type": "code",
      "metadata": {
        "id": "AyA6t7kaRzLX",
        "colab_type": "code",
        "colab": {
          "base_uri": "https://localhost:8080/",
          "height": 34
        },
        "outputId": "80842c60-8879-4700-bbce-8db5bc94bd68"
      },
      "source": [
        "rdd = sc.parallelize(data, numSlices=10)\n",
        "print(type(rdd))\n",
        "# <class 'pyspark.rdd.RDD'>"
      ],
      "execution_count": 11,
      "outputs": [
        {
          "output_type": "stream",
          "text": [
            "<class 'pyspark.rdd.RDD'>\n"
          ],
          "name": "stdout"
        }
      ]
    },
    {
      "cell_type": "markdown",
      "metadata": {
        "id": "E9cx7EdBRzLZ",
        "colab_type": "text"
      },
      "source": [
        "Determine how many partitions are being used with this RDD with the `.getNumPartitions()` method."
      ]
    },
    {
      "cell_type": "code",
      "metadata": {
        "id": "Y__UCGYPRzLa",
        "colab_type": "code",
        "colab": {
          "base_uri": "https://localhost:8080/",
          "height": 34
        },
        "outputId": "3bbc093b-1939-43bc-9107-f464d50d64f4"
      },
      "source": [
        "rdd.getNumPartitions()\n",
        "# 10"
      ],
      "execution_count": 12,
      "outputs": [
        {
          "output_type": "execute_result",
          "data": {
            "text/plain": [
              "10"
            ]
          },
          "metadata": {
            "tags": []
          },
          "execution_count": 12
        }
      ]
    },
    {
      "cell_type": "markdown",
      "metadata": {
        "id": "MBBxvNqbRzLc",
        "colab_type": "text"
      },
      "source": [
        "### Basic descriptive RDD actions\n",
        "\n",
        "Let's perform some basic operations on our RDD. In the cell below, use the methods:\n",
        "* `count`: returns the total count of items in the RDD \n",
        "* `first`: returns the first item in the RDD\n",
        "* `take`: returns the first `n` items in the RDD\n",
        "* `top`: returns the top `n` items\n",
        "* `collect`: returns everything from your RDD\n",
        "\n",
        "\n",
        "It's important to note that in a big data context, calling the collect method will often take a very long time to execute and should be handled with care!"
      ]
    },
    {
      "cell_type": "code",
      "metadata": {
        "scrolled": true,
        "id": "I46BOelwRzLc",
        "colab_type": "code",
        "colab": {
          "base_uri": "https://localhost:8080/",
          "height": 34
        },
        "outputId": "f0f27a9f-9dd2-4089-9409-05ec2120773c"
      },
      "source": [
        "# count\n",
        "rdd.count()"
      ],
      "execution_count": 14,
      "outputs": [
        {
          "output_type": "execute_result",
          "data": {
            "text/plain": [
              "1000"
            ]
          },
          "metadata": {
            "tags": []
          },
          "execution_count": 14
        }
      ]
    },
    {
      "cell_type": "code",
      "metadata": {
        "id": "ClO_GOnLRzLf",
        "colab_type": "code",
        "colab": {
          "base_uri": "https://localhost:8080/",
          "height": 34
        },
        "outputId": "4f9077ea-66b6-4308-df22-f2153ee0712b"
      },
      "source": [
        "# first\n",
        "rdd.first()"
      ],
      "execution_count": 15,
      "outputs": [
        {
          "output_type": "execute_result",
          "data": {
            "text/plain": [
              "1"
            ]
          },
          "metadata": {
            "tags": []
          },
          "execution_count": 15
        }
      ]
    },
    {
      "cell_type": "code",
      "metadata": {
        "id": "YYfOnwjlRzLi",
        "colab_type": "code",
        "colab": {
          "base_uri": "https://localhost:8080/",
          "height": 34
        },
        "outputId": "9eea7c4c-c203-4134-adf5-9a827f5583bb"
      },
      "source": [
        "# take\n",
        "rdd.take(8)"
      ],
      "execution_count": 17,
      "outputs": [
        {
          "output_type": "execute_result",
          "data": {
            "text/plain": [
              "[1, 2, 3, 4, 5, 6, 7, 8]"
            ]
          },
          "metadata": {
            "tags": []
          },
          "execution_count": 17
        }
      ]
    },
    {
      "cell_type": "code",
      "metadata": {
        "id": "uIxvU8EyRzLk",
        "colab_type": "code",
        "colab": {
          "base_uri": "https://localhost:8080/",
          "height": 34
        },
        "outputId": "06ac0b44-5602-451b-ad81-c277e498461d"
      },
      "source": [
        "# top\n",
        "rdd.top(5)"
      ],
      "execution_count": 18,
      "outputs": [
        {
          "output_type": "execute_result",
          "data": {
            "text/plain": [
              "[1000, 999, 998, 997, 996]"
            ]
          },
          "metadata": {
            "tags": []
          },
          "execution_count": 18
        }
      ]
    },
    {
      "cell_type": "code",
      "metadata": {
        "scrolled": true,
        "id": "mjfIioPzRzLm",
        "colab_type": "code",
        "colab": {
          "base_uri": "https://localhost:8080/",
          "height": 1000
        },
        "outputId": "30d85e94-9baf-4a70-816d-ee9342a0a462"
      },
      "source": [
        "# collect\n",
        "rdd.collect()"
      ],
      "execution_count": 19,
      "outputs": [
        {
          "output_type": "execute_result",
          "data": {
            "text/plain": [
              "[1,\n",
              " 2,\n",
              " 3,\n",
              " 4,\n",
              " 5,\n",
              " 6,\n",
              " 7,\n",
              " 8,\n",
              " 9,\n",
              " 10,\n",
              " 11,\n",
              " 12,\n",
              " 13,\n",
              " 14,\n",
              " 15,\n",
              " 16,\n",
              " 17,\n",
              " 18,\n",
              " 19,\n",
              " 20,\n",
              " 21,\n",
              " 22,\n",
              " 23,\n",
              " 24,\n",
              " 25,\n",
              " 26,\n",
              " 27,\n",
              " 28,\n",
              " 29,\n",
              " 30,\n",
              " 31,\n",
              " 32,\n",
              " 33,\n",
              " 34,\n",
              " 35,\n",
              " 36,\n",
              " 37,\n",
              " 38,\n",
              " 39,\n",
              " 40,\n",
              " 41,\n",
              " 42,\n",
              " 43,\n",
              " 44,\n",
              " 45,\n",
              " 46,\n",
              " 47,\n",
              " 48,\n",
              " 49,\n",
              " 50,\n",
              " 51,\n",
              " 52,\n",
              " 53,\n",
              " 54,\n",
              " 55,\n",
              " 56,\n",
              " 57,\n",
              " 58,\n",
              " 59,\n",
              " 60,\n",
              " 61,\n",
              " 62,\n",
              " 63,\n",
              " 64,\n",
              " 65,\n",
              " 66,\n",
              " 67,\n",
              " 68,\n",
              " 69,\n",
              " 70,\n",
              " 71,\n",
              " 72,\n",
              " 73,\n",
              " 74,\n",
              " 75,\n",
              " 76,\n",
              " 77,\n",
              " 78,\n",
              " 79,\n",
              " 80,\n",
              " 81,\n",
              " 82,\n",
              " 83,\n",
              " 84,\n",
              " 85,\n",
              " 86,\n",
              " 87,\n",
              " 88,\n",
              " 89,\n",
              " 90,\n",
              " 91,\n",
              " 92,\n",
              " 93,\n",
              " 94,\n",
              " 95,\n",
              " 96,\n",
              " 97,\n",
              " 98,\n",
              " 99,\n",
              " 100,\n",
              " 101,\n",
              " 102,\n",
              " 103,\n",
              " 104,\n",
              " 105,\n",
              " 106,\n",
              " 107,\n",
              " 108,\n",
              " 109,\n",
              " 110,\n",
              " 111,\n",
              " 112,\n",
              " 113,\n",
              " 114,\n",
              " 115,\n",
              " 116,\n",
              " 117,\n",
              " 118,\n",
              " 119,\n",
              " 120,\n",
              " 121,\n",
              " 122,\n",
              " 123,\n",
              " 124,\n",
              " 125,\n",
              " 126,\n",
              " 127,\n",
              " 128,\n",
              " 129,\n",
              " 130,\n",
              " 131,\n",
              " 132,\n",
              " 133,\n",
              " 134,\n",
              " 135,\n",
              " 136,\n",
              " 137,\n",
              " 138,\n",
              " 139,\n",
              " 140,\n",
              " 141,\n",
              " 142,\n",
              " 143,\n",
              " 144,\n",
              " 145,\n",
              " 146,\n",
              " 147,\n",
              " 148,\n",
              " 149,\n",
              " 150,\n",
              " 151,\n",
              " 152,\n",
              " 153,\n",
              " 154,\n",
              " 155,\n",
              " 156,\n",
              " 157,\n",
              " 158,\n",
              " 159,\n",
              " 160,\n",
              " 161,\n",
              " 162,\n",
              " 163,\n",
              " 164,\n",
              " 165,\n",
              " 166,\n",
              " 167,\n",
              " 168,\n",
              " 169,\n",
              " 170,\n",
              " 171,\n",
              " 172,\n",
              " 173,\n",
              " 174,\n",
              " 175,\n",
              " 176,\n",
              " 177,\n",
              " 178,\n",
              " 179,\n",
              " 180,\n",
              " 181,\n",
              " 182,\n",
              " 183,\n",
              " 184,\n",
              " 185,\n",
              " 186,\n",
              " 187,\n",
              " 188,\n",
              " 189,\n",
              " 190,\n",
              " 191,\n",
              " 192,\n",
              " 193,\n",
              " 194,\n",
              " 195,\n",
              " 196,\n",
              " 197,\n",
              " 198,\n",
              " 199,\n",
              " 200,\n",
              " 201,\n",
              " 202,\n",
              " 203,\n",
              " 204,\n",
              " 205,\n",
              " 206,\n",
              " 207,\n",
              " 208,\n",
              " 209,\n",
              " 210,\n",
              " 211,\n",
              " 212,\n",
              " 213,\n",
              " 214,\n",
              " 215,\n",
              " 216,\n",
              " 217,\n",
              " 218,\n",
              " 219,\n",
              " 220,\n",
              " 221,\n",
              " 222,\n",
              " 223,\n",
              " 224,\n",
              " 225,\n",
              " 226,\n",
              " 227,\n",
              " 228,\n",
              " 229,\n",
              " 230,\n",
              " 231,\n",
              " 232,\n",
              " 233,\n",
              " 234,\n",
              " 235,\n",
              " 236,\n",
              " 237,\n",
              " 238,\n",
              " 239,\n",
              " 240,\n",
              " 241,\n",
              " 242,\n",
              " 243,\n",
              " 244,\n",
              " 245,\n",
              " 246,\n",
              " 247,\n",
              " 248,\n",
              " 249,\n",
              " 250,\n",
              " 251,\n",
              " 252,\n",
              " 253,\n",
              " 254,\n",
              " 255,\n",
              " 256,\n",
              " 257,\n",
              " 258,\n",
              " 259,\n",
              " 260,\n",
              " 261,\n",
              " 262,\n",
              " 263,\n",
              " 264,\n",
              " 265,\n",
              " 266,\n",
              " 267,\n",
              " 268,\n",
              " 269,\n",
              " 270,\n",
              " 271,\n",
              " 272,\n",
              " 273,\n",
              " 274,\n",
              " 275,\n",
              " 276,\n",
              " 277,\n",
              " 278,\n",
              " 279,\n",
              " 280,\n",
              " 281,\n",
              " 282,\n",
              " 283,\n",
              " 284,\n",
              " 285,\n",
              " 286,\n",
              " 287,\n",
              " 288,\n",
              " 289,\n",
              " 290,\n",
              " 291,\n",
              " 292,\n",
              " 293,\n",
              " 294,\n",
              " 295,\n",
              " 296,\n",
              " 297,\n",
              " 298,\n",
              " 299,\n",
              " 300,\n",
              " 301,\n",
              " 302,\n",
              " 303,\n",
              " 304,\n",
              " 305,\n",
              " 306,\n",
              " 307,\n",
              " 308,\n",
              " 309,\n",
              " 310,\n",
              " 311,\n",
              " 312,\n",
              " 313,\n",
              " 314,\n",
              " 315,\n",
              " 316,\n",
              " 317,\n",
              " 318,\n",
              " 319,\n",
              " 320,\n",
              " 321,\n",
              " 322,\n",
              " 323,\n",
              " 324,\n",
              " 325,\n",
              " 326,\n",
              " 327,\n",
              " 328,\n",
              " 329,\n",
              " 330,\n",
              " 331,\n",
              " 332,\n",
              " 333,\n",
              " 334,\n",
              " 335,\n",
              " 336,\n",
              " 337,\n",
              " 338,\n",
              " 339,\n",
              " 340,\n",
              " 341,\n",
              " 342,\n",
              " 343,\n",
              " 344,\n",
              " 345,\n",
              " 346,\n",
              " 347,\n",
              " 348,\n",
              " 349,\n",
              " 350,\n",
              " 351,\n",
              " 352,\n",
              " 353,\n",
              " 354,\n",
              " 355,\n",
              " 356,\n",
              " 357,\n",
              " 358,\n",
              " 359,\n",
              " 360,\n",
              " 361,\n",
              " 362,\n",
              " 363,\n",
              " 364,\n",
              " 365,\n",
              " 366,\n",
              " 367,\n",
              " 368,\n",
              " 369,\n",
              " 370,\n",
              " 371,\n",
              " 372,\n",
              " 373,\n",
              " 374,\n",
              " 375,\n",
              " 376,\n",
              " 377,\n",
              " 378,\n",
              " 379,\n",
              " 380,\n",
              " 381,\n",
              " 382,\n",
              " 383,\n",
              " 384,\n",
              " 385,\n",
              " 386,\n",
              " 387,\n",
              " 388,\n",
              " 389,\n",
              " 390,\n",
              " 391,\n",
              " 392,\n",
              " 393,\n",
              " 394,\n",
              " 395,\n",
              " 396,\n",
              " 397,\n",
              " 398,\n",
              " 399,\n",
              " 400,\n",
              " 401,\n",
              " 402,\n",
              " 403,\n",
              " 404,\n",
              " 405,\n",
              " 406,\n",
              " 407,\n",
              " 408,\n",
              " 409,\n",
              " 410,\n",
              " 411,\n",
              " 412,\n",
              " 413,\n",
              " 414,\n",
              " 415,\n",
              " 416,\n",
              " 417,\n",
              " 418,\n",
              " 419,\n",
              " 420,\n",
              " 421,\n",
              " 422,\n",
              " 423,\n",
              " 424,\n",
              " 425,\n",
              " 426,\n",
              " 427,\n",
              " 428,\n",
              " 429,\n",
              " 430,\n",
              " 431,\n",
              " 432,\n",
              " 433,\n",
              " 434,\n",
              " 435,\n",
              " 436,\n",
              " 437,\n",
              " 438,\n",
              " 439,\n",
              " 440,\n",
              " 441,\n",
              " 442,\n",
              " 443,\n",
              " 444,\n",
              " 445,\n",
              " 446,\n",
              " 447,\n",
              " 448,\n",
              " 449,\n",
              " 450,\n",
              " 451,\n",
              " 452,\n",
              " 453,\n",
              " 454,\n",
              " 455,\n",
              " 456,\n",
              " 457,\n",
              " 458,\n",
              " 459,\n",
              " 460,\n",
              " 461,\n",
              " 462,\n",
              " 463,\n",
              " 464,\n",
              " 465,\n",
              " 466,\n",
              " 467,\n",
              " 468,\n",
              " 469,\n",
              " 470,\n",
              " 471,\n",
              " 472,\n",
              " 473,\n",
              " 474,\n",
              " 475,\n",
              " 476,\n",
              " 477,\n",
              " 478,\n",
              " 479,\n",
              " 480,\n",
              " 481,\n",
              " 482,\n",
              " 483,\n",
              " 484,\n",
              " 485,\n",
              " 486,\n",
              " 487,\n",
              " 488,\n",
              " 489,\n",
              " 490,\n",
              " 491,\n",
              " 492,\n",
              " 493,\n",
              " 494,\n",
              " 495,\n",
              " 496,\n",
              " 497,\n",
              " 498,\n",
              " 499,\n",
              " 500,\n",
              " 501,\n",
              " 502,\n",
              " 503,\n",
              " 504,\n",
              " 505,\n",
              " 506,\n",
              " 507,\n",
              " 508,\n",
              " 509,\n",
              " 510,\n",
              " 511,\n",
              " 512,\n",
              " 513,\n",
              " 514,\n",
              " 515,\n",
              " 516,\n",
              " 517,\n",
              " 518,\n",
              " 519,\n",
              " 520,\n",
              " 521,\n",
              " 522,\n",
              " 523,\n",
              " 524,\n",
              " 525,\n",
              " 526,\n",
              " 527,\n",
              " 528,\n",
              " 529,\n",
              " 530,\n",
              " 531,\n",
              " 532,\n",
              " 533,\n",
              " 534,\n",
              " 535,\n",
              " 536,\n",
              " 537,\n",
              " 538,\n",
              " 539,\n",
              " 540,\n",
              " 541,\n",
              " 542,\n",
              " 543,\n",
              " 544,\n",
              " 545,\n",
              " 546,\n",
              " 547,\n",
              " 548,\n",
              " 549,\n",
              " 550,\n",
              " 551,\n",
              " 552,\n",
              " 553,\n",
              " 554,\n",
              " 555,\n",
              " 556,\n",
              " 557,\n",
              " 558,\n",
              " 559,\n",
              " 560,\n",
              " 561,\n",
              " 562,\n",
              " 563,\n",
              " 564,\n",
              " 565,\n",
              " 566,\n",
              " 567,\n",
              " 568,\n",
              " 569,\n",
              " 570,\n",
              " 571,\n",
              " 572,\n",
              " 573,\n",
              " 574,\n",
              " 575,\n",
              " 576,\n",
              " 577,\n",
              " 578,\n",
              " 579,\n",
              " 580,\n",
              " 581,\n",
              " 582,\n",
              " 583,\n",
              " 584,\n",
              " 585,\n",
              " 586,\n",
              " 587,\n",
              " 588,\n",
              " 589,\n",
              " 590,\n",
              " 591,\n",
              " 592,\n",
              " 593,\n",
              " 594,\n",
              " 595,\n",
              " 596,\n",
              " 597,\n",
              " 598,\n",
              " 599,\n",
              " 600,\n",
              " 601,\n",
              " 602,\n",
              " 603,\n",
              " 604,\n",
              " 605,\n",
              " 606,\n",
              " 607,\n",
              " 608,\n",
              " 609,\n",
              " 610,\n",
              " 611,\n",
              " 612,\n",
              " 613,\n",
              " 614,\n",
              " 615,\n",
              " 616,\n",
              " 617,\n",
              " 618,\n",
              " 619,\n",
              " 620,\n",
              " 621,\n",
              " 622,\n",
              " 623,\n",
              " 624,\n",
              " 625,\n",
              " 626,\n",
              " 627,\n",
              " 628,\n",
              " 629,\n",
              " 630,\n",
              " 631,\n",
              " 632,\n",
              " 633,\n",
              " 634,\n",
              " 635,\n",
              " 636,\n",
              " 637,\n",
              " 638,\n",
              " 639,\n",
              " 640,\n",
              " 641,\n",
              " 642,\n",
              " 643,\n",
              " 644,\n",
              " 645,\n",
              " 646,\n",
              " 647,\n",
              " 648,\n",
              " 649,\n",
              " 650,\n",
              " 651,\n",
              " 652,\n",
              " 653,\n",
              " 654,\n",
              " 655,\n",
              " 656,\n",
              " 657,\n",
              " 658,\n",
              " 659,\n",
              " 660,\n",
              " 661,\n",
              " 662,\n",
              " 663,\n",
              " 664,\n",
              " 665,\n",
              " 666,\n",
              " 667,\n",
              " 668,\n",
              " 669,\n",
              " 670,\n",
              " 671,\n",
              " 672,\n",
              " 673,\n",
              " 674,\n",
              " 675,\n",
              " 676,\n",
              " 677,\n",
              " 678,\n",
              " 679,\n",
              " 680,\n",
              " 681,\n",
              " 682,\n",
              " 683,\n",
              " 684,\n",
              " 685,\n",
              " 686,\n",
              " 687,\n",
              " 688,\n",
              " 689,\n",
              " 690,\n",
              " 691,\n",
              " 692,\n",
              " 693,\n",
              " 694,\n",
              " 695,\n",
              " 696,\n",
              " 697,\n",
              " 698,\n",
              " 699,\n",
              " 700,\n",
              " 701,\n",
              " 702,\n",
              " 703,\n",
              " 704,\n",
              " 705,\n",
              " 706,\n",
              " 707,\n",
              " 708,\n",
              " 709,\n",
              " 710,\n",
              " 711,\n",
              " 712,\n",
              " 713,\n",
              " 714,\n",
              " 715,\n",
              " 716,\n",
              " 717,\n",
              " 718,\n",
              " 719,\n",
              " 720,\n",
              " 721,\n",
              " 722,\n",
              " 723,\n",
              " 724,\n",
              " 725,\n",
              " 726,\n",
              " 727,\n",
              " 728,\n",
              " 729,\n",
              " 730,\n",
              " 731,\n",
              " 732,\n",
              " 733,\n",
              " 734,\n",
              " 735,\n",
              " 736,\n",
              " 737,\n",
              " 738,\n",
              " 739,\n",
              " 740,\n",
              " 741,\n",
              " 742,\n",
              " 743,\n",
              " 744,\n",
              " 745,\n",
              " 746,\n",
              " 747,\n",
              " 748,\n",
              " 749,\n",
              " 750,\n",
              " 751,\n",
              " 752,\n",
              " 753,\n",
              " 754,\n",
              " 755,\n",
              " 756,\n",
              " 757,\n",
              " 758,\n",
              " 759,\n",
              " 760,\n",
              " 761,\n",
              " 762,\n",
              " 763,\n",
              " 764,\n",
              " 765,\n",
              " 766,\n",
              " 767,\n",
              " 768,\n",
              " 769,\n",
              " 770,\n",
              " 771,\n",
              " 772,\n",
              " 773,\n",
              " 774,\n",
              " 775,\n",
              " 776,\n",
              " 777,\n",
              " 778,\n",
              " 779,\n",
              " 780,\n",
              " 781,\n",
              " 782,\n",
              " 783,\n",
              " 784,\n",
              " 785,\n",
              " 786,\n",
              " 787,\n",
              " 788,\n",
              " 789,\n",
              " 790,\n",
              " 791,\n",
              " 792,\n",
              " 793,\n",
              " 794,\n",
              " 795,\n",
              " 796,\n",
              " 797,\n",
              " 798,\n",
              " 799,\n",
              " 800,\n",
              " 801,\n",
              " 802,\n",
              " 803,\n",
              " 804,\n",
              " 805,\n",
              " 806,\n",
              " 807,\n",
              " 808,\n",
              " 809,\n",
              " 810,\n",
              " 811,\n",
              " 812,\n",
              " 813,\n",
              " 814,\n",
              " 815,\n",
              " 816,\n",
              " 817,\n",
              " 818,\n",
              " 819,\n",
              " 820,\n",
              " 821,\n",
              " 822,\n",
              " 823,\n",
              " 824,\n",
              " 825,\n",
              " 826,\n",
              " 827,\n",
              " 828,\n",
              " 829,\n",
              " 830,\n",
              " 831,\n",
              " 832,\n",
              " 833,\n",
              " 834,\n",
              " 835,\n",
              " 836,\n",
              " 837,\n",
              " 838,\n",
              " 839,\n",
              " 840,\n",
              " 841,\n",
              " 842,\n",
              " 843,\n",
              " 844,\n",
              " 845,\n",
              " 846,\n",
              " 847,\n",
              " 848,\n",
              " 849,\n",
              " 850,\n",
              " 851,\n",
              " 852,\n",
              " 853,\n",
              " 854,\n",
              " 855,\n",
              " 856,\n",
              " 857,\n",
              " 858,\n",
              " 859,\n",
              " 860,\n",
              " 861,\n",
              " 862,\n",
              " 863,\n",
              " 864,\n",
              " 865,\n",
              " 866,\n",
              " 867,\n",
              " 868,\n",
              " 869,\n",
              " 870,\n",
              " 871,\n",
              " 872,\n",
              " 873,\n",
              " 874,\n",
              " 875,\n",
              " 876,\n",
              " 877,\n",
              " 878,\n",
              " 879,\n",
              " 880,\n",
              " 881,\n",
              " 882,\n",
              " 883,\n",
              " 884,\n",
              " 885,\n",
              " 886,\n",
              " 887,\n",
              " 888,\n",
              " 889,\n",
              " 890,\n",
              " 891,\n",
              " 892,\n",
              " 893,\n",
              " 894,\n",
              " 895,\n",
              " 896,\n",
              " 897,\n",
              " 898,\n",
              " 899,\n",
              " 900,\n",
              " 901,\n",
              " 902,\n",
              " 903,\n",
              " 904,\n",
              " 905,\n",
              " 906,\n",
              " 907,\n",
              " 908,\n",
              " 909,\n",
              " 910,\n",
              " 911,\n",
              " 912,\n",
              " 913,\n",
              " 914,\n",
              " 915,\n",
              " 916,\n",
              " 917,\n",
              " 918,\n",
              " 919,\n",
              " 920,\n",
              " 921,\n",
              " 922,\n",
              " 923,\n",
              " 924,\n",
              " 925,\n",
              " 926,\n",
              " 927,\n",
              " 928,\n",
              " 929,\n",
              " 930,\n",
              " 931,\n",
              " 932,\n",
              " 933,\n",
              " 934,\n",
              " 935,\n",
              " 936,\n",
              " 937,\n",
              " 938,\n",
              " 939,\n",
              " 940,\n",
              " 941,\n",
              " 942,\n",
              " 943,\n",
              " 944,\n",
              " 945,\n",
              " 946,\n",
              " 947,\n",
              " 948,\n",
              " 949,\n",
              " 950,\n",
              " 951,\n",
              " 952,\n",
              " 953,\n",
              " 954,\n",
              " 955,\n",
              " 956,\n",
              " 957,\n",
              " 958,\n",
              " 959,\n",
              " 960,\n",
              " 961,\n",
              " 962,\n",
              " 963,\n",
              " 964,\n",
              " 965,\n",
              " 966,\n",
              " 967,\n",
              " 968,\n",
              " 969,\n",
              " 970,\n",
              " 971,\n",
              " 972,\n",
              " 973,\n",
              " 974,\n",
              " 975,\n",
              " 976,\n",
              " 977,\n",
              " 978,\n",
              " 979,\n",
              " 980,\n",
              " 981,\n",
              " 982,\n",
              " 983,\n",
              " 984,\n",
              " 985,\n",
              " 986,\n",
              " 987,\n",
              " 988,\n",
              " 989,\n",
              " 990,\n",
              " 991,\n",
              " 992,\n",
              " 993,\n",
              " 994,\n",
              " 995,\n",
              " 996,\n",
              " 997,\n",
              " 998,\n",
              " 999,\n",
              " 1000]"
            ]
          },
          "metadata": {
            "tags": []
          },
          "execution_count": 19
        }
      ]
    },
    {
      "cell_type": "markdown",
      "metadata": {
        "id": "JEu-fXIJRzLo",
        "colab_type": "text"
      },
      "source": [
        "## Map functions\n",
        "\n",
        "Now that you've been working a little bit with RDDs, let's make this a little more interesting. Imagine you're running a hot new e-commerce startup called BuyStuff, and you're trying to track of how much it charges customers from each item sold. In the next cell, we're going to create simulated data by multiplying the values 1-1000 with a random number from 0-1."
      ]
    },
    {
      "cell_type": "code",
      "metadata": {
        "id": "Y-rlf3YaRzLo",
        "colab_type": "code",
        "colab": {
          "base_uri": "https://localhost:8080/",
          "height": 1000
        },
        "outputId": "f595df27-e377-4167-dde6-58c0903583fa"
      },
      "source": [
        "import random\n",
        "import numpy as np\n",
        "\n",
        "nums = np.array(range(1, 1001))\n",
        "sales_figures = nums * np.random.rand(1000)\n",
        "sales_figures"
      ],
      "execution_count": 20,
      "outputs": [
        {
          "output_type": "execute_result",
          "data": {
            "text/plain": [
              "array([4.51538564e-01, 3.16965127e-01, 2.26947016e+00, 1.65192274e+00,\n",
              "       3.31478850e+00, 5.88051892e+00, 5.65771453e+00, 2.85212763e+00,\n",
              "       6.27863330e+00, 1.82591947e+00, 6.36515599e+00, 6.26021764e+00,\n",
              "       1.06447588e+00, 1.23117712e+01, 1.11505907e+01, 1.14298452e+01,\n",
              "       5.94367884e+00, 1.44819820e+01, 8.50557641e+00, 1.41567059e+01,\n",
              "       2.00157659e+01, 1.79981605e+01, 1.26955345e+01, 1.98881460e+01,\n",
              "       2.26033123e+01, 8.77874331e+00, 2.49029515e+01, 1.99390044e+00,\n",
              "       2.43543755e+01, 2.52866139e+01, 1.18696341e+01, 1.75898893e+01,\n",
              "       2.14660500e+01, 1.96156743e+01, 2.48342875e+01, 3.28015287e+01,\n",
              "       1.60981052e+01, 1.48604976e+01, 2.06723159e+01, 3.30562559e+01,\n",
              "       1.59725650e+01, 1.37446729e+01, 3.64183290e+01, 9.94257448e+00,\n",
              "       3.28557121e+01, 3.03778158e+01, 1.43829659e+01, 8.16756740e+00,\n",
              "       2.29160646e+01, 4.65928462e+01, 3.47475747e+01, 3.28950062e+01,\n",
              "       1.72309212e+01, 2.41320080e+01, 3.60911729e+01, 1.34962907e+01,\n",
              "       5.07962109e+01, 1.71735888e+01, 1.99240257e+01, 3.90806628e+01,\n",
              "       4.10142164e+01, 4.59585768e+00, 2.67211001e+01, 4.99196230e+01,\n",
              "       2.51451189e+01, 1.57075169e+01, 9.99848217e+00, 5.81858377e+01,\n",
              "       1.42634758e+01, 3.37328230e+01, 5.95580557e+01, 7.00143162e+01,\n",
              "       1.64557527e+01, 1.33404946e+01, 7.36906067e+01, 1.97628549e+00,\n",
              "       5.70339424e+00, 9.16463533e-01, 6.60090047e+01, 4.57113187e+00,\n",
              "       2.24184713e+01, 4.32122143e+01, 5.80643530e+01, 1.06859283e+01,\n",
              "       2.53153636e+01, 8.36586227e+01, 7.76021887e+01, 8.94576282e+00,\n",
              "       6.14567904e+01, 7.17858711e+01, 2.79011353e+00, 8.34947091e+01,\n",
              "       6.44853674e+01, 3.44009297e+01, 4.34845262e+01, 4.19907565e+01,\n",
              "       8.12081324e+00, 1.15126251e+01, 1.42535976e+01, 3.73326884e+01,\n",
              "       3.80663034e+01, 6.87747982e+01, 8.96672414e+01, 7.96578962e+01,\n",
              "       9.01657597e+01, 9.85865976e+01, 7.16581362e+01, 1.01625781e+02,\n",
              "       8.24732062e+01, 4.76711314e+01, 7.21731414e+01, 7.76970256e+01,\n",
              "       7.29802495e+01, 2.32603279e+01, 7.33844937e+01, 9.61517387e+01,\n",
              "       1.76494783e+01, 9.59235517e+01, 6.77415279e+01, 9.60146265e+01,\n",
              "       7.92940344e+01, 2.80773264e+01, 4.66166215e+01, 2.78127659e+01,\n",
              "       1.46511481e+01, 3.19552496e+01, 6.59662778e+00, 1.13521334e+02,\n",
              "       5.08700990e+01, 4.06403015e+01, 4.07851149e+01, 9.35281249e+01,\n",
              "       1.21853341e+02, 4.17139460e+01, 1.03524588e+02, 6.80012303e+01,\n",
              "       1.25621062e+01, 1.20499018e+02, 3.58884199e+01, 1.36991564e+02,\n",
              "       1.13935938e+02, 1.00855668e+02, 9.47573325e+01, 5.93361730e+00,\n",
              "       3.34858129e+01, 1.43954038e+02, 5.15906449e+01, 2.94715913e+01,\n",
              "       6.03477126e+01, 4.68358713e+01, 3.35772235e+01, 1.36961356e+02,\n",
              "       1.43407544e+02, 7.60448516e+01, 9.13743099e+01, 8.88512870e+01,\n",
              "       6.89973741e+01, 4.64902097e+01, 6.57474371e+01, 7.17868256e+01,\n",
              "       9.75100626e+01, 9.08357992e+01, 9.67878583e+01, 1.51919732e+02,\n",
              "       3.93061819e+01, 1.01529255e+02, 1.03509288e+02, 9.53852145e+01,\n",
              "       8.25188624e+01, 1.02311106e+02, 2.69319835e+01, 1.21442584e+02,\n",
              "       5.29737295e+01, 3.84517084e+01, 1.21168901e+02, 1.08414504e+02,\n",
              "       2.79471343e+00, 1.55595365e+02, 1.57358101e+02, 4.98066956e+01,\n",
              "       1.60418963e+02, 1.46808891e+01, 1.14551151e+02, 1.79313161e+02,\n",
              "       5.98370799e+01, 4.36510185e+01, 1.86849677e+02, 1.16076838e+02,\n",
              "       4.82018364e+01, 8.09026915e+01, 1.41590200e+02, 5.01208569e+01,\n",
              "       1.03282682e+01, 1.34456278e+02, 1.76967537e+02, 3.20359519e+01,\n",
              "       5.39708022e+01, 1.61526008e+02, 5.18343373e+01, 7.11533127e+01,\n",
              "       8.81800097e+01, 1.43529700e+01, 3.26244297e+01, 1.42373512e+01,\n",
              "       8.62988115e+01, 1.44287138e-01, 7.60443718e+01, 8.57275629e+01,\n",
              "       1.10106866e+02, 1.87096803e+01, 1.41626345e+02, 2.08093132e+02,\n",
              "       1.93666824e+02, 2.07758011e+02, 1.53074864e+02, 1.37273528e+02,\n",
              "       4.40636780e+01, 1.07970826e+02, 3.79554883e+01, 1.63531389e+02,\n",
              "       1.44384587e+01, 1.59160395e+02, 9.23270156e+01, 5.21561744e+01,\n",
              "       1.61055266e+02, 1.22537075e+01, 1.10860454e+01, 2.97422033e+01,\n",
              "       1.47574964e+02, 9.26804836e+01, 1.41993286e+02, 4.04590609e+01,\n",
              "       1.81771516e+02, 1.65233439e+02, 1.36899560e+02, 2.10845506e+02,\n",
              "       5.48086123e+01, 3.07588392e+01, 1.23103629e+02, 1.43435543e+02,\n",
              "       1.04730136e+02, 1.74829746e+02, 1.99980087e+02, 1.96591752e+01,\n",
              "       7.88209479e+01, 2.36565915e+02, 1.42265124e+02, 7.88208880e+01,\n",
              "       1.99235499e+02, 9.17370572e+01, 8.69388356e+01, 8.85921737e+01,\n",
              "       1.04755855e+02, 2.52091567e+01, 1.59797532e+02, 3.54904239e+01,\n",
              "       2.52001438e+02, 1.30685706e+02, 1.36112551e+02, 1.77809272e+02,\n",
              "       2.08962284e+02, 2.02478021e+02, 1.17251415e+02, 1.78565037e+02,\n",
              "       8.83376198e+01, 1.75945499e+02, 5.77061251e+01, 1.97213310e+01,\n",
              "       1.92481331e+02, 8.64426649e+01, 1.60801332e+02, 1.97830165e+02,\n",
              "       1.26909007e+02, 4.10741011e+01, 1.84325358e+02, 2.38882754e+02,\n",
              "       1.64400818e+02, 2.47411147e+02, 1.76853061e+02, 2.62795859e+02,\n",
              "       2.12719482e+02, 2.10313317e+02, 2.26138968e+02, 5.66596866e+01,\n",
              "       3.15848363e+01, 1.61218247e+02, 1.81816930e+02, 6.83123310e+01,\n",
              "       6.54544965e+01, 2.57129708e+02, 2.80167269e+02, 2.18457383e+02,\n",
              "       8.90931273e+01, 2.65053987e+01, 1.32201418e+02, 1.37691493e+02,\n",
              "       1.98196214e+02, 2.11772183e+02, 1.52923709e+02, 1.83437211e+02,\n",
              "       4.55442716e+01, 1.55888477e+02, 1.29661237e+01, 2.51434021e+02,\n",
              "       4.70581502e+01, 2.11901469e+02, 2.16794874e+02, 2.41987739e+02,\n",
              "       2.75387438e+02, 7.37756902e+01, 4.25724242e+00, 1.14525415e+02,\n",
              "       4.29221017e+01, 1.80766237e+02, 1.25232442e+02, 2.13203182e+02,\n",
              "       3.57580120e+01, 8.16882821e+01, 6.07443108e+01, 2.45072586e+02,\n",
              "       6.66403291e+01, 3.05562176e+02, 1.70243967e+02, 2.71878180e+02,\n",
              "       1.34455404e+02, 5.39358259e+01, 9.99006273e+01, 7.28397941e+01,\n",
              "       4.77567034e+00, 1.62600139e+02, 1.91396047e+02, 3.17188231e+01,\n",
              "       2.98824902e+02, 2.09276810e+01, 8.16455653e+01, 2.75207708e+01,\n",
              "       1.61442938e+02, 1.53356571e+02, 7.02570646e+01, 1.83075012e+02,\n",
              "       1.10409426e+02, 2.44906542e+02, 2.88381953e+02, 3.03761859e+02,\n",
              "       1.88856175e+02, 2.43907755e+02, 2.43841437e+02, 1.12438076e+02,\n",
              "       1.59782789e+02, 2.89732087e+02, 3.38677298e+02, 2.06885539e+02,\n",
              "       3.17787871e+02, 2.90571797e+02, 2.15247789e+02, 2.52136065e+02,\n",
              "       2.16250985e+02, 1.42866612e+02, 6.90908846e+00, 1.13733111e+02,\n",
              "       1.37614428e+01, 1.71479414e+02, 1.81043777e+02, 6.53435059e+01,\n",
              "       3.47070904e+02, 5.60680322e+01, 2.74745691e+02, 3.10612203e+02,\n",
              "       1.95460234e+02, 1.08174137e+02, 5.82906979e+01, 3.54624523e+02,\n",
              "       1.03916060e+02, 5.53572221e+01, 2.21960703e+02, 3.20817004e+02,\n",
              "       3.08026610e+02, 7.84462333e+01, 2.06889046e+02, 5.28788229e+01,\n",
              "       2.03574871e+02, 1.80030542e+02, 2.80956847e+02, 7.15788492e+01,\n",
              "       3.80324416e+01, 2.48800763e+02, 2.70224580e+02, 2.79923677e+02,\n",
              "       3.32267053e+02, 1.11845626e+02, 1.00276166e+02, 2.06971475e+02,\n",
              "       3.82109356e+02, 2.20655207e+02, 3.49112940e+02, 2.26653488e+02,\n",
              "       3.99065412e+01, 2.98429374e+02, 1.78238998e+02, 3.94766841e+02,\n",
              "       2.09320296e+02, 2.84733717e+01, 3.54221078e+02, 3.10993587e+02,\n",
              "       2.89017990e+02, 9.65441434e+01, 3.96280144e+02, 2.30046208e+02,\n",
              "       3.68231593e+02, 2.19437113e+02, 5.30549199e+01, 2.90123157e+02,\n",
              "       3.80853970e+02, 1.53377654e+02, 2.47302302e+02, 1.82220974e+02,\n",
              "       1.67404406e+02, 3.39673709e+02, 2.31689144e+02, 2.30849297e+02,\n",
              "       2.47076970e+02, 3.36680741e+02, 3.33923165e+01, 2.54032012e+02,\n",
              "       2.89004116e+02, 2.78377485e+02, 4.24800745e+02, 2.06105082e+02,\n",
              "       3.02649623e+02, 1.91146875e+02, 3.46777401e+02, 1.56794195e+02,\n",
              "       3.98026033e+02, 1.44418627e+02, 4.05645621e+02, 4.15503497e+02,\n",
              "       2.22589441e+02, 4.20339772e+02, 1.90961591e+02, 2.95795122e+02,\n",
              "       2.07880163e+02, 1.84202721e+02, 2.62572851e+01, 3.08921100e+02,\n",
              "       1.69972016e+02, 2.95786143e+02, 2.06354419e+02, 2.03043203e+01,\n",
              "       3.50838126e+02, 2.81474878e+02, 7.67741085e+00, 9.02550009e+01,\n",
              "       4.28678024e+02, 5.67860514e+01, 2.34468079e+02, 4.26760932e+02,\n",
              "       1.92227387e+02, 2.92541648e+02, 1.03654299e+02, 2.95958536e+02,\n",
              "       2.88906404e+02, 2.23888875e+02, 1.21027057e+02, 1.35059503e+02,\n",
              "       5.15905426e+01, 3.31707899e+02, 4.45488153e+02, 4.11258425e+02,\n",
              "       3.44853007e+02, 2.96850689e+01, 3.39336726e+02, 5.62886737e+01,\n",
              "       1.07991096e+02, 3.96652632e+02, 4.40375564e+02, 1.02002461e+02,\n",
              "       2.94662125e+02, 5.45925131e+01, 2.79375963e+02, 3.54740049e+02,\n",
              "       2.29297619e+01, 1.27219107e+02, 2.90655067e+02, 1.66744525e+02,\n",
              "       2.31156922e+02, 1.67693787e+02, 3.64244417e+02, 6.46263718e+01,\n",
              "       8.51157052e+01, 3.61109844e+02, 2.52506859e+02, 2.46746374e+02,\n",
              "       3.32471742e+02, 4.69187500e+02, 4.31531195e+01, 1.59483850e+02,\n",
              "       5.81198283e+01, 4.42631523e+02, 2.63155951e+02, 4.06829923e+02,\n",
              "       2.07845253e+02, 2.09820878e+02, 3.46035792e+02, 4.72486840e+02,\n",
              "       2.89738841e+02, 3.67135658e+02, 2.28822802e+02, 4.69674573e+02,\n",
              "       1.70178279e+02, 5.04801591e+02, 1.26756845e+02, 6.71617771e+01,\n",
              "       2.87173681e+02, 1.50902895e+02, 2.59254432e+01, 1.63532264e+02,\n",
              "       1.73962479e+02, 1.82652395e+02, 3.52907986e+02, 4.65289916e+02,\n",
              "       4.88706441e+02, 3.93054714e+02, 2.99629298e+02, 1.05064226e+02,\n",
              "       4.81376977e+02, 1.04345323e+02, 5.76484258e+01, 1.13429755e+01,\n",
              "       4.54176427e+02, 1.84463957e+02, 1.08825376e+02, 4.07705028e+02,\n",
              "       3.95079847e+02, 7.62927351e+01, 2.54697567e+02, 2.25946467e+01,\n",
              "       3.97331743e+01, 4.47779665e+02, 8.24841813e+01, 5.06683098e+02,\n",
              "       4.99734297e+02, 5.17470259e+01, 4.00732805e+02, 4.34395071e+01,\n",
              "       3.36970308e+02, 4.06323324e+02, 3.98601724e+02, 7.00059617e+01,\n",
              "       1.58240824e+02, 2.36307119e+02, 2.03460007e+02, 1.59099835e+02,\n",
              "       4.87097704e+02, 4.89392362e+02, 3.92853897e+02, 1.51605289e+02,\n",
              "       3.49819061e+02, 4.57323676e+02, 1.58968593e+02, 4.28571734e+02,\n",
              "       4.88937720e+00, 5.02501554e+02, 4.15674638e+02, 1.08390694e+02,\n",
              "       4.07861411e+02, 4.80080365e+02, 3.35015627e+02, 4.09965210e+02,\n",
              "       4.82316653e+02, 2.17865615e+02, 1.91746010e+02, 4.25754992e+02,\n",
              "       2.11304080e+01, 3.59221585e+02, 5.01559954e+02, 1.13918076e+02,\n",
              "       6.43051297e+01, 1.20327342e+02, 3.62409669e+02, 4.55542351e+02,\n",
              "       2.41196728e+02, 3.91096261e+02, 4.71783663e+02, 1.61975101e+02,\n",
              "       1.38428007e+02, 3.30222147e+02, 3.53630687e+02, 2.23539484e+02,\n",
              "       2.37112256e+02, 4.36557049e+02, 3.13397108e+02, 9.89599448e+01,\n",
              "       3.08470759e+02, 4.99293449e+02, 6.57357933e+01, 5.24800387e+02,\n",
              "       1.26840204e+02, 9.91467890e+01, 7.92280446e+01, 3.55895554e+02,\n",
              "       2.62663324e+02, 1.87928634e+02, 5.97336542e+01, 4.42329407e+01,\n",
              "       1.08715602e+02, 1.00414457e+02, 2.41865397e+01, 5.56477611e+02,\n",
              "       8.85031257e+01, 1.53866389e+02, 1.72531945e-01, 3.37068795e+02,\n",
              "       7.53206717e+00, 5.31063133e+02, 5.89058188e+02, 5.43717207e+02,\n",
              "       4.75290876e+02, 3.09516586e+02, 4.01732349e+02, 2.43000318e+02,\n",
              "       7.08789925e+01, 5.35415104e+02, 3.96699733e+02, 6.73757831e+01,\n",
              "       5.64180589e+02, 2.49611440e+02, 2.86067178e+02, 2.09458325e+00,\n",
              "       2.36073582e+02, 1.82387024e+02, 1.78756038e+02, 9.67226334e+01,\n",
              "       2.88185949e+02, 5.36486262e+02, 2.53476211e+02, 5.53095712e+02,\n",
              "       3.00074111e+02, 3.90361880e+02, 2.32790451e+02, 1.71047952e+02,\n",
              "       4.03764052e+02, 4.18199439e+02, 5.69385643e+02, 6.35196309e+02,\n",
              "       1.77314424e+02, 1.03475821e+01, 5.66901412e+02, 1.70574829e+02,\n",
              "       4.04575087e+02, 5.03791055e+02, 4.85227943e+02, 1.27090672e+02,\n",
              "       5.19916162e+00, 2.77499636e+01, 5.52790786e+02, 2.89059914e+02,\n",
              "       1.79377369e+02, 4.26841792e+02, 4.04240740e+01, 1.78936378e+01,\n",
              "       3.75218806e+02, 1.85632019e+02, 2.97086900e+02, 4.33708591e+02,\n",
              "       2.91333599e+02, 3.74174396e+02, 6.33335554e+02, 4.23718718e+02,\n",
              "       3.37294216e+02, 3.42386489e+02, 1.75440825e+02, 4.76359167e+02,\n",
              "       3.12667642e+02, 6.73684590e+02, 4.43390648e+02, 5.77440001e+02,\n",
              "       9.81127236e+01, 5.76596958e+02, 5.81706119e+01, 2.23108313e+02,\n",
              "       2.66455085e+02, 4.07504747e+02, 2.34699149e+01, 7.13743259e+01,\n",
              "       3.44301928e+02, 1.80899457e+01, 5.72989537e+01, 2.80108576e+01,\n",
              "       3.22724397e+02, 2.10304343e+02, 4.48329776e+02, 5.10831520e+02,\n",
              "       1.89979893e+02, 1.87636667e+02, 6.53716089e+02, 5.64580118e+02,\n",
              "       3.59025527e+02, 6.36409515e+02, 1.58863944e+02, 6.29321713e+02,\n",
              "       1.56565167e+01, 5.18187960e+02, 1.43080685e+02, 2.44487259e+02,\n",
              "       6.80239291e+02, 6.75155296e+02, 4.65064929e+02, 5.25305304e+02,\n",
              "       5.19588674e+02, 9.74967580e+01, 6.13287990e+02, 6.06512979e+02,\n",
              "       2.57572641e+01, 5.90360275e+02, 4.86769386e+02, 6.30007068e+02,\n",
              "       7.07015180e+02, 6.31288496e+02, 5.42270507e+02, 3.38271618e+02,\n",
              "       5.35396909e+02, 3.66641686e+02, 3.24759467e+02, 1.24645025e+02,\n",
              "       6.48123102e+02, 1.07490217e+02, 4.49611556e+01, 1.25039169e+02,\n",
              "       5.77638640e+02, 6.53063003e+02, 2.82526064e+01, 5.16570501e+02,\n",
              "       6.95337137e+02, 6.96559276e+02, 4.37766255e+02, 3.93379474e+02,\n",
              "       5.36152415e+02, 5.10404537e+02, 5.04245545e+02, 8.37569605e+01,\n",
              "       7.21856778e+02, 5.84178319e+02, 5.69311430e+02, 3.97466468e+02,\n",
              "       4.15310633e+02, 4.93345741e+02, 5.90000202e+02, 2.12115179e+02,\n",
              "       3.61158567e+02, 3.86056922e+02, 5.25493713e+02, 1.22676099e+02,\n",
              "       6.57230804e+02, 6.87404452e+02, 2.20318450e+02, 6.15141797e+02,\n",
              "       3.85540905e+02, 2.69173204e+02, 3.38325822e+02, 4.89826668e+02,\n",
              "       4.90043630e+02, 1.11712160e+02, 6.01555182e+02, 2.67869948e+02,\n",
              "       7.33041917e+02, 2.20850831e+02, 7.22853756e+01, 6.69021393e+02,\n",
              "       9.20802644e+01, 5.92959440e+01, 2.02322982e+02, 1.36073121e+02,\n",
              "       5.84613179e+02, 1.79354783e+01, 5.85560806e+02, 7.98750106e+01,\n",
              "       5.74462386e+02, 4.25636921e+02, 4.64434391e+01, 4.52987354e+02,\n",
              "       1.03045328e+02, 9.11289731e+01, 2.12407640e+02, 5.17871518e+02,\n",
              "       4.23422987e+02, 1.02469219e+02, 4.18204897e+02, 2.69320268e+01,\n",
              "       4.54241954e+02, 7.50109590e+02, 1.62479825e+02, 1.95188234e+02,\n",
              "       4.26780341e+02, 5.07015747e+01, 7.29232629e+02, 1.00863947e+02,\n",
              "       6.39503849e+01, 7.26976698e+02, 4.67699080e+02, 5.90991489e+02,\n",
              "       7.24287497e+02, 4.04246897e+02, 5.06987381e+02, 3.79945183e+02,\n",
              "       1.86159667e+02, 1.84139654e+02, 6.72942591e+02, 6.57778465e+01,\n",
              "       3.61936378e+02, 6.91655874e+02, 2.76832797e+02, 4.36455795e+02,\n",
              "       2.11966572e+02, 6.52342700e+02, 6.91293811e+02, 7.16023463e+02,\n",
              "       5.51122359e+02, 6.62826412e+02, 2.27144987e+02, 6.46920570e+02,\n",
              "       6.95027962e+02, 3.13587851e+01, 3.35366296e+02, 3.05566509e+02,\n",
              "       2.02852673e+02, 3.25202580e+02, 3.24944194e+02, 4.19721201e+02,\n",
              "       7.80008687e+02, 4.19582684e+01, 2.06507432e+02, 3.38565509e+02,\n",
              "       5.65411339e+02, 3.40573917e+02, 5.12324560e+02, 5.57086016e+02,\n",
              "       7.33216608e+02, 6.93286993e+02, 6.73945436e+01, 4.43316366e+02,\n",
              "       9.51861151e+01, 1.74461127e+02, 2.54183003e+02, 2.06547923e+02,\n",
              "       6.22587575e+02, 3.69356495e+02, 7.98331780e+02, 7.93111338e+02,\n",
              "       3.86980852e+02, 4.60594723e+02, 6.98253099e+02, 2.90532426e+02,\n",
              "       1.99736519e+02, 5.25372441e+02, 4.46475068e+01, 5.63890701e+02,\n",
              "       4.81751146e+02, 4.66038954e+01, 7.89034544e+02, 7.51261388e+02,\n",
              "       6.59652821e+02, 4.00662760e+02, 2.96532421e+02, 6.53874367e+02,\n",
              "       6.89566409e+02, 3.61140688e+02, 6.83540316e+02, 9.02522911e+01,\n",
              "       5.62157525e+02, 5.27776064e+02, 5.53608972e+02, 5.14873433e+02,\n",
              "       6.55434516e+02, 4.76797695e+01, 6.01762047e+02, 2.12601596e+02,\n",
              "       1.52805179e+02, 8.35170900e+02, 5.73840311e+01, 7.44811494e+02,\n",
              "       8.61944449e+02, 5.29928496e+02, 5.30524235e+02, 6.00691787e+02,\n",
              "       7.68772796e+02, 5.84633588e+02, 8.48203209e+02, 4.86582789e+02,\n",
              "       2.18463783e+02, 6.65635053e+02, 1.33859736e+02, 4.78312444e+02,\n",
              "       8.39402693e+02, 2.76946878e+02, 5.96559470e+02, 8.77916121e+02,\n",
              "       7.02055020e+02, 1.58799799e+02, 5.41811887e+02, 2.55274637e+02,\n",
              "       4.62855608e+02, 4.65281818e+02, 7.96458696e+02, 2.43503831e+02,\n",
              "       3.76065991e+02, 3.62480991e+02, 8.13251817e+02, 1.51087428e+02,\n",
              "       6.27096907e+01, 1.21379260e+02, 4.49903332e+02, 3.02731404e+02,\n",
              "       9.01467669e+02, 2.70870295e+02, 8.87788354e+01, 3.95203323e+02,\n",
              "       3.96355632e+02, 6.73165294e+02, 8.45928673e+02, 5.84746878e+02,\n",
              "       2.13586434e+02, 7.88638405e+02, 1.85107960e+02, 4.81046467e+02,\n",
              "       2.52753254e+02, 1.01903520e+02, 2.46734782e+02, 3.28876496e+02,\n",
              "       8.58737842e+02, 3.77515888e+00, 9.97035406e+01, 1.73006267e+02,\n",
              "       2.46052235e+02, 1.10874401e+02, 8.41462873e+02, 2.32753104e+02,\n",
              "       4.25619812e+02, 9.35767355e+02, 6.46710306e+02, 6.66636889e+02,\n",
              "       8.31298845e+02, 5.00156720e+02, 3.02072817e+02, 5.92464437e+02,\n",
              "       2.23281953e+02, 1.30539831e+02, 5.31351111e+02, 2.81942203e+02,\n",
              "       2.75780673e+02, 5.84689377e+02, 6.98920310e+02, 7.92965896e+02,\n",
              "       7.75658345e+02, 3.22354975e+02, 8.65179169e+02, 1.13900723e+02,\n",
              "       8.17681577e+02, 9.31253436e+02, 3.01236111e+02, 8.83880602e+02,\n",
              "       1.35668519e+02, 4.97319830e+02, 2.17771912e+01, 5.52790886e+02,\n",
              "       1.21467836e+02, 2.06312611e+01, 1.04491176e+02, 3.25026416e+02,\n",
              "       8.33149132e+02, 2.72878577e+02, 1.75590745e+02, 6.44648258e+02,\n",
              "       3.41160390e+02, 8.30087881e+02, 5.33035905e+02, 5.58839062e+02,\n",
              "       3.03243550e+02, 2.08221708e+02, 3.91178523e+02, 9.03396258e+02,\n",
              "       9.99738394e+01, 3.91014090e+02, 2.80089924e+02, 5.43335379e+02,\n",
              "       1.88278022e+02, 6.55690956e+02, 8.08721147e+02, 1.92187751e+02,\n",
              "       5.93252065e+02, 5.20040723e+02, 1.72294253e+02, 6.58573762e+02,\n",
              "       8.42894393e+02, 4.07688488e+02, 3.18733952e+02, 2.62432161e+02,\n",
              "       9.21842089e+02, 3.45703740e+01, 2.19000022e+02, 7.84117936e+01])"
            ]
          },
          "metadata": {
            "tags": []
          },
          "execution_count": 20
        }
      ]
    },
    {
      "cell_type": "markdown",
      "metadata": {
        "id": "HrABFY6eRzLq",
        "colab_type": "text"
      },
      "source": [
        "We now have sales prices for 1000 items currently for sale at BuyStuff. Now create an RDD called `price_items` using the newly created data with 10 slices. After you create it, use one of the basic actions to see what's in the RDD."
      ]
    },
    {
      "cell_type": "code",
      "metadata": {
        "id": "MAOxEx3JRzLr",
        "colab_type": "code",
        "colab": {
          "base_uri": "https://localhost:8080/",
          "height": 102
        },
        "outputId": "72699c96-1fc3-4381-91b3-075fa8dc9bc3"
      },
      "source": [
        "price_items = sc.parallelize(sales_figures, numSlices=10)\n",
        "price_items.take(5)\n"
      ],
      "execution_count": 21,
      "outputs": [
        {
          "output_type": "execute_result",
          "data": {
            "text/plain": [
              "[0.4515385637098397,\n",
              " 0.31696512721135206,\n",
              " 2.2694701616335458,\n",
              " 1.6519227399773997,\n",
              " 3.31478849803057]"
            ]
          },
          "metadata": {
            "tags": []
          },
          "execution_count": 21
        }
      ]
    },
    {
      "cell_type": "markdown",
      "metadata": {
        "id": "twnVwbZLRzLs",
        "colab_type": "text"
      },
      "source": [
        "Now let's perform some operations on this simple dataset. To begin with, create a function that will take into account how much money BuyStuff will receive after sales tax has been applied (assume a sales tax of 8%). To make this happen, create a function called `sales_tax()` that returns the amount of money our company will receive after the sales tax has been applied. The function will have this parameter:\n",
        "\n",
        "* `item`: (float) number to be multiplied by the sales tax.\n",
        "\n",
        "\n",
        "Apply that function to the rdd by using the `.map()` method and assign it to a variable `renenue_minus_tax`"
      ]
    },
    {
      "cell_type": "code",
      "metadata": {
        "id": "lo0GQ-AORzLt",
        "colab_type": "code",
        "colab": {}
      },
      "source": [
        "def sales_tax(num):\n",
        "    return num * 0.92\n",
        "\n",
        "revenue_minus_tax = price_items.map(sales_tax)"
      ],
      "execution_count": 22,
      "outputs": []
    },
    {
      "cell_type": "markdown",
      "metadata": {
        "id": "9TY031g3RzLv",
        "colab_type": "text"
      },
      "source": [
        "Remember, Spark has __lazy evaluation__, which means that the `sales_tax()` function is a transformer that is not executed until you call an action. Use one of the collection methods to execute the transformer now a part of the RDD and observe the contents of the `revenue_minus_tax` rdd."
      ]
    },
    {
      "cell_type": "code",
      "metadata": {
        "scrolled": true,
        "id": "iWBSdA1tRzLv",
        "colab_type": "code",
        "colab": {
          "base_uri": "https://localhost:8080/",
          "height": 187
        },
        "outputId": "48afdf65-06bb-40ca-dad3-206a2a164806"
      },
      "source": [
        "# perform action to retrieve rdd values\n",
        "revenue_minus_tax.take(10)"
      ],
      "execution_count": 23,
      "outputs": [
        {
          "output_type": "execute_result",
          "data": {
            "text/plain": [
              "[0.41541547861305256,\n",
              " 0.2916079170344439,\n",
              " 2.087912548702862,\n",
              " 1.5197689207792078,\n",
              " 3.0496054181881247,\n",
              " 5.410077402747198,\n",
              " 5.205097370796906,\n",
              " 2.623957417414815,\n",
              " 5.776342632164421,\n",
              " 1.6798459168694193]"
            ]
          },
          "metadata": {
            "tags": []
          },
          "execution_count": 23
        }
      ]
    },
    {
      "cell_type": "markdown",
      "metadata": {
        "id": "SY-4UxWyRzLx",
        "colab_type": "text"
      },
      "source": [
        "### Lambda Functions\n",
        "\n",
        "Note that you can also use lambda functions if you want to quickly perform simple operations on data without creating a function. Let's assume that BuyStuff has also decided to offer a 10% discount on all of their items on the pre-tax amounts of each item. Use a lambda function within a `.map()` method to apply the additional 10% loss in revenue for BuyStuff and assign the transformed RDD to a new RDD called `discounted`."
      ]
    },
    {
      "cell_type": "code",
      "metadata": {
        "id": "qsQx-d-nRzLy",
        "colab_type": "code",
        "colab": {}
      },
      "source": [
        "discounted = revenue_minus_tax.map(lambda x : x*0.9)"
      ],
      "execution_count": 24,
      "outputs": []
    },
    {
      "cell_type": "code",
      "metadata": {
        "scrolled": true,
        "id": "XIfLtTvURzLz",
        "colab_type": "code",
        "colab": {
          "base_uri": "https://localhost:8080/",
          "height": 187
        },
        "outputId": "25df01b2-c538-4057-fc3b-21a006f18587"
      },
      "source": [
        "discounted.take(10)"
      ],
      "execution_count": 25,
      "outputs": [
        {
          "output_type": "execute_result",
          "data": {
            "text/plain": [
              "[0.3738739307517473,\n",
              " 0.2624471253309995,\n",
              " 1.8791212938325759,\n",
              " 1.367792028701287,\n",
              " 2.7446448763693123,\n",
              " 4.869069662472478,\n",
              " 4.684587633717216,\n",
              " 2.3615616756733337,\n",
              " 5.198708368947979,\n",
              " 1.5118613251824775]"
            ]
          },
          "metadata": {
            "tags": []
          },
          "execution_count": 25
        }
      ]
    },
    {
      "cell_type": "markdown",
      "metadata": {
        "id": "y9ZXl-wkRzL2",
        "colab_type": "text"
      },
      "source": [
        "## Chaining Methods\n",
        "\n",
        "You are also able to chain methods together with Spark. In one line, remove the tax and discount from the revenue of BuyStuff and use a collection method to see the 15 costliest items."
      ]
    },
    {
      "cell_type": "code",
      "metadata": {
        "scrolled": true,
        "id": "l9RpX09TRzL2",
        "colab_type": "code",
        "colab": {
          "base_uri": "https://localhost:8080/",
          "height": 272
        },
        "outputId": "71b1af36-ce1e-47d5-b56a-24e028b642b4"
      },
      "source": [
        "price_items.map(sales_tax).map(lambda x : x*0.9).top(15)"
      ],
      "execution_count": 26,
      "outputs": [
        {
          "output_type": "execute_result",
          "data": {
            "text/plain": [
              "[774.8153696284006,\n",
              " 771.0778446050249,\n",
              " 763.285249595554,\n",
              " 748.012101863612,\n",
              " 746.41522995363,\n",
              " 731.8531382631043,\n",
              " 726.9145482011871,\n",
              " 716.3683517716871,\n",
              " 713.6900037566317,\n",
              " 711.0349332408825,\n",
              " 702.312256926592,\n",
              " 700.4289413254652,\n",
              " 697.9165571911764,\n",
              " 696.7312592083036,\n",
              " 695.0254294993224]"
            ]
          },
          "metadata": {
            "tags": []
          },
          "execution_count": 26
        }
      ]
    },
    {
      "cell_type": "markdown",
      "metadata": {
        "id": "Um-LTk8rRzL4",
        "colab_type": "text"
      },
      "source": [
        "## RDD Lineage\n",
        "\n",
        "\n",
        "We are able to see the full lineage of all the operations that have been performed on an RDD by using the `RDD.toDebugString()` method. As your transformations become more complex, you are encouraged to call this method to get a better understanding of the dependencies between RDDs. Try calling it on the `discounted` RDD to see what RDDs it is dependent on."
      ]
    },
    {
      "cell_type": "code",
      "metadata": {
        "id": "_c6IZjBxRzL4",
        "colab_type": "code",
        "colab": {
          "base_uri": "https://localhost:8080/",
          "height": 34
        },
        "outputId": "f5e5b37c-805c-45bd-b7d7-07660c6f10f1"
      },
      "source": [
        "discounted.toDebugString()"
      ],
      "execution_count": 27,
      "outputs": [
        {
          "output_type": "execute_result",
          "data": {
            "text/plain": [
              "b'(10) PythonRDD[11] at RDD at PythonRDD.scala:53 []\\n |   ParallelCollectionRDD[6] at parallelize at PythonRDD.scala:195 []'"
            ]
          },
          "metadata": {
            "tags": []
          },
          "execution_count": 27
        }
      ]
    },
    {
      "cell_type": "markdown",
      "metadata": {
        "id": "wDusy7M2RzL6",
        "colab_type": "text"
      },
      "source": [
        "### Map vs. Flatmap\n",
        "\n",
        "Depending on how you want your data to be outputted, you might want to use `.flatMap()` rather than a simple `.map()`. Let's take a look at how it performs operations versus the standard map. Let's say we wanted to maintain the original amount BuyStuff receives for each item as well as the new amount after the tax and discount are applied. Create a map function that will return a tuple with (original price, post-discount price)."
      ]
    },
    {
      "cell_type": "code",
      "metadata": {
        "id": "ojwP8y16RzL6",
        "colab_type": "code",
        "colab": {
          "base_uri": "https://localhost:8080/",
          "height": 71
        },
        "outputId": "09fad60b-5768-4690-ed8b-acbb7116a35d"
      },
      "source": [
        "mapped = price_items.map(lambda x: (x, x*0.92 *0.9))\n",
        "print(mapped.count())\n",
        "print(mapped.take(10))"
      ],
      "execution_count": 28,
      "outputs": [
        {
          "output_type": "stream",
          "text": [
            "1000\n",
            "[(0.4515385637098397, 0.3738739307517473), (0.31696512721135206, 0.2624471253309995), (2.2694701616335458, 1.8791212938325759), (1.6519227399773997, 1.367792028701287), (3.31478849803057, 2.7446448763693123), (5.880518916029563, 4.869069662472478), (5.657714533474898, 4.684587633717216), (2.8521276276247987, 2.3615616756733337), (6.278633295830892, 5.198708368947979), (1.8259194748580643, 1.5118613251824775)]\n"
          ],
          "name": "stdout"
        }
      ]
    },
    {
      "cell_type": "markdown",
      "metadata": {
        "id": "3O6Fo4ffRzL8",
        "colab_type": "text"
      },
      "source": [
        "Note that we have 1000 tuples created to our specification. Let's take a look at how `.flatMap()` differs in its implementation. Use the `.flatMap()` method with the same function you created above."
      ]
    },
    {
      "cell_type": "code",
      "metadata": {
        "id": "WAfwjj22RzL8",
        "colab_type": "code",
        "colab": {
          "base_uri": "https://localhost:8080/",
          "height": 71
        },
        "outputId": "f6b0e30b-b2d6-4c5f-c02d-d587c3218dd6"
      },
      "source": [
        "flat_mapped = price_items.flatMap(lambda x: (x, x*0.92 *0.9))\n",
        "print(flat_mapped.count())\n",
        "print(flat_mapped.take(10))"
      ],
      "execution_count": 29,
      "outputs": [
        {
          "output_type": "stream",
          "text": [
            "2000\n",
            "[0.4515385637098397, 0.3738739307517473, 0.31696512721135206, 0.2624471253309995, 2.2694701616335458, 1.8791212938325759, 1.6519227399773997, 1.367792028701287, 3.31478849803057, 2.7446448763693123]\n"
          ],
          "name": "stdout"
        }
      ]
    },
    {
      "cell_type": "markdown",
      "metadata": {
        "id": "awShb_beRzL-",
        "colab_type": "text"
      },
      "source": [
        "Rather than being represented by tuples, all of the  values are now on the same level. When we are trying to combine different items together, it is sometimes necessary to use `.flatMap()` rather than `.map()` in order to properly reduce to our specifications. This is not one of those instances, but in the upcoming lab, you just might have to use it."
      ]
    },
    {
      "cell_type": "markdown",
      "metadata": {
        "id": "GktPLQLERzL-",
        "colab_type": "text"
      },
      "source": [
        "## Filter\n",
        "After meeting with some external consultants, BuyStuff has determined that its business will be more profitable if it focuses on higher ticket items. Now, use the `.filter()` method to select items that bring in more than $300 after tax and discount have been removed. A filter method is a specialized form of a map function that only returns the items that match a certain criterion. In the cell below:\n",
        "* use a lambda function within a `.filter()` method to meet the consultant's suggestion's specifications. set `RDD = selected_items`\n",
        "* calculate the total number of items remaining in BuyStuff's inventory"
      ]
    },
    {
      "cell_type": "code",
      "metadata": {
        "id": "o11fQLbRRzL-",
        "colab_type": "code",
        "colab": {
          "base_uri": "https://localhost:8080/",
          "height": 34
        },
        "outputId": "89585c38-4b00-419a-f2e6-8b7ad487e34f"
      },
      "source": [
        "# use the filter function\n",
        "selected_items = discounted.filter(lambda x: x>300)\n",
        "\n",
        "# calculate total remaining in inventory \n",
        "selected_items.count()"
      ],
      "execution_count": 30,
      "outputs": [
        {
          "output_type": "execute_result",
          "data": {
            "text/plain": [
              "270"
            ]
          },
          "metadata": {
            "tags": []
          },
          "execution_count": 30
        }
      ]
    },
    {
      "cell_type": "markdown",
      "metadata": {
        "id": "AhAJDj8ORzMA",
        "colab_type": "text"
      },
      "source": [
        "## Reduce\n",
        "\n",
        "Reduce functions are where you are in some way combing all of the variables that you have mapped out. Here is an example of how a reduce function works when the task is to sum all values:\n",
        "\n",
        "<img src = \"./images/reduce_function.png\" width = \"600\">  \n",
        "\n",
        "\n",
        "As you can see, the operation is performed within each partition first, after which, the results of the computations in each partition are combined to come up with one final answer.  \n",
        "\n",
        "Now it's time to figure out how much money BuyStuff would make from selling one of all of its items after they've reduced their inventory. Use the `.reduce()` method with a lambda function to add up all of the values in the RDD. Your lambda function should have two variables. "
      ]
    },
    {
      "cell_type": "code",
      "metadata": {
        "id": "cQccuZXKRzMB",
        "colab_type": "code",
        "colab": {
          "base_uri": "https://localhost:8080/",
          "height": 34
        },
        "outputId": "bd8a630f-12c4-472f-b58c-ce0d11a7aea5"
      },
      "source": [
        "selected_items.reduce(lambda x,y: x + y)"
      ],
      "execution_count": 31,
      "outputs": [
        {
          "output_type": "execute_result",
          "data": {
            "text/plain": [
              "124626.91230715552"
            ]
          },
          "metadata": {
            "tags": []
          },
          "execution_count": 31
        }
      ]
    },
    {
      "cell_type": "markdown",
      "metadata": {
        "id": "iYl5uS4vRzMD",
        "colab_type": "text"
      },
      "source": [
        "The time has come for BuyStuff to open up shop and start selling its goods. It only has one of each item, but it's allowing 50 lucky users to buy as many items as they want while they remain in stock. Within seconds, BuyStuff is sold out. Below, you'll find the sales data in an RDD with tuples of (user, item bought)."
      ]
    },
    {
      "cell_type": "code",
      "metadata": {
        "id": "3_rDgU6tRzMD",
        "colab_type": "code",
        "colab": {
          "base_uri": "https://localhost:8080/",
          "height": 136
        },
        "outputId": "3364e372-a33a-4910-9ffc-5dafdd3abb6c"
      },
      "source": [
        "import random\n",
        "random.seed(42)\n",
        "# generating simulated users that have bought each item\n",
        "sales_data = selected_items.map(lambda x: (random.randint(1, 50), x))\n",
        "\n",
        "sales_data.take(7)"
      ],
      "execution_count": 32,
      "outputs": [
        {
          "output_type": "execute_result",
          "data": {
            "text/plain": [
              "[(11, 316.38654712687736),\n",
              " (22, 326.86694472399967),\n",
              " (11, 328.11995915400524),\n",
              " (22, 304.8957590415386),\n",
              " (16, 315.3470869452148),\n",
              " (8, 351.73501645962915),\n",
              " (20, 329.5655556937657)]"
            ]
          },
          "metadata": {
            "tags": []
          },
          "execution_count": 32
        }
      ]
    },
    {
      "cell_type": "markdown",
      "metadata": {
        "id": "vdcfY7NCRzMG",
        "colab_type": "text"
      },
      "source": [
        "It's time to determine some basic statistics about BuyStuff users.\n",
        "\n",
        "Let's start off by creating an RDD that determines how much each user spent in total.\n",
        "To do this we can use a method called `.reduceByKey()` to perform reducing operations while grouping by keys. After you have calculated the total, use the `.sortBy()` method on the RDD to rank the users from the highest spending to the least spending. "
      ]
    },
    {
      "cell_type": "code",
      "metadata": {
        "id": "267PuU3rRzMG",
        "colab_type": "code",
        "colab": {
          "base_uri": "https://localhost:8080/",
          "height": 119
        },
        "outputId": "51806454-7897-41a4-a016-ad25af7e894a"
      },
      "source": [
        "# calculate how much each user spent\n",
        "sales_data.reduceByKey(lambda x, y: x + y)\n",
        "sales_data.take(6)"
      ],
      "execution_count": 35,
      "outputs": [
        {
          "output_type": "execute_result",
          "data": {
            "text/plain": [
              "[(11, 316.38654712687736),\n",
              " (22, 326.86694472399967),\n",
              " (11, 328.11995915400524),\n",
              " (22, 304.8957590415386),\n",
              " (16, 315.3470869452148),\n",
              " (8, 351.73501645962915)]"
            ]
          },
          "metadata": {
            "tags": []
          },
          "execution_count": 35
        }
      ]
    },
    {
      "cell_type": "code",
      "metadata": {
        "id": "GBCet1U1RzMH",
        "colab_type": "code",
        "colab": {
          "base_uri": "https://localhost:8080/",
          "height": 1000
        },
        "outputId": "8461f921-b5e5-45a1-e0cc-a27fc6746bd4"
      },
      "source": [
        "# sort the users from highest to lowest spenders\n",
        "sales_data.sortBy(lambda x: x[1],ascending = False).collect()"
      ],
      "execution_count": 38,
      "outputs": [
        {
          "output_type": "execute_result",
          "data": {
            "text/plain": [
              "[(5, 774.8153696284006),\n",
              " (28, 771.0778446050249),\n",
              " (48, 763.285249595554),\n",
              " (10, 748.012101863612),\n",
              " (35, 746.41522995363),\n",
              " (33, 731.8531382631043),\n",
              " (8, 726.9145482011871),\n",
              " (45, 716.3683517716871),\n",
              " (30, 713.6900037566317),\n",
              " (19, 711.0349332408825),\n",
              " (50, 702.312256926592),\n",
              " (29, 700.4289413254652),\n",
              " (49, 697.9165571911764),\n",
              " (28, 696.7312592083036),\n",
              " (10, 695.0254294993224),\n",
              " (50, 691.5215048230779),\n",
              " (34, 689.8474814760833),\n",
              " (26, 688.3154437303574),\n",
              " (3, 687.3127657592688),\n",
              " (3, 677.0403459471908),\n",
              " (8, 673.3725045622159),\n",
              " (7, 669.6211097275265),\n",
              " (31, 661.0187141372355),\n",
              " (34, 659.4678002698514),\n",
              " (46, 656.6961876472321),\n",
              " (43, 656.5757616269763),\n",
              " (23, 653.3206026872102),\n",
              " (1, 652.9925991740806),\n",
              " (7, 645.8471924256697),\n",
              " (36, 642.2451099854537),\n",
              " (34, 636.5438747875211),\n",
              " (44, 622.0444292385442),\n",
              " (10, 621.0907402087144),\n",
              " (29, 616.7039170469529),\n",
              " (11, 607.1033510238794),\n",
              " (11, 606.958706926105),\n",
              " (37, 603.804617001631),\n",
              " (13, 601.9367061844413),\n",
              " (31, 599.7100477432847),\n",
              " (37, 597.6974120035757),\n",
              " (21, 592.8674276392933),\n",
              " (2, 585.4085690475436),\n",
              " (14, 581.3015563142078),\n",
              " (35, 578.7060170867429),\n",
              " (11, 578.1535656144829),\n",
              " (40, 576.7510804261825),\n",
              " (47, 575.7391494394221),\n",
              " (16, 575.483152172054),\n",
              " (1, 574.041630582021),\n",
              " (14, 572.6910634293655),\n",
              " (44, 572.3912751649318),\n",
              " (42, 570.9609865896088),\n",
              " (46, 569.1708866292652),\n",
              " (38, 565.9713815579323),\n",
              " (48, 563.2381327017841),\n",
              " (17, 559.028585162341),\n",
              " (40, 557.8108408443466),\n",
              " (25, 557.3808632244309),\n",
              " (11, 557.1964653583565),\n",
              " (42, 553.94971361405),\n",
              " (26, 551.9753439817376),\n",
              " (30, 551.1458241506116),\n",
              " (28, 548.8202687410551),\n",
              " (26, 546.1925358535597),\n",
              " (34, 545.299074978568),\n",
              " (30, 544.1871059781366),\n",
              " (19, 542.9121117819722),\n",
              " (16, 542.6997794499365),\n",
              " (38, 541.4079760948314),\n",
              " (29, 541.2769213424693),\n",
              " (47, 540.7361663982588),\n",
              " (27, 540.1397554260554),\n",
              " (16, 536.645928420209),\n",
              " (47, 535.6502322494932),\n",
              " (15, 535.4761337260749),\n",
              " (17, 533.7687573761071),\n",
              " (38, 526.9470787879756),\n",
              " (25, 525.9425438797211),\n",
              " (35, 524.4018385562018),\n",
              " (6, 522.7068743681901),\n",
              " (48, 521.645852158386),\n",
              " (34, 521.0783779770347),\n",
              " (8, 515.5025117817577),\n",
              " (16, 509.33740814308095),\n",
              " (36, 507.8024558234668),\n",
              " (47, 502.19274622436757),\n",
              " (17, 498.25897531585593),\n",
              " (23, 498.08769090756743),\n",
              " (24, 497.3727996500433),\n",
              " (47, 493.9512413265327),\n",
              " (43, 491.2127098768138),\n",
              " (9, 490.56055383944505),\n",
              " (9, 489.34095328264453),\n",
              " (43, 488.81830783858294),\n",
              " (9, 488.5201675869968),\n",
              " (7, 487.74017957765534),\n",
              " (13, 484.84434742066765),\n",
              " (38, 484.1704148083257),\n",
              " (2, 484.1228040991606),\n",
              " (35, 484.076610621099),\n",
              " (23, 484.0597125470042),\n",
              " (5, 483.6996477988242),\n",
              " (23, 478.284793523358),\n",
              " (12, 478.120321037346),\n",
              " (14, 477.4222815606658),\n",
              " (12, 475.6548556822604),\n",
              " (48, 471.45131273180795),\n",
              " (7, 471.38986415672605),\n",
              " (26, 469.3943689880788),\n",
              " (7, 468.1605889362689),\n",
              " (49, 467.47233746182513),\n",
              " (42, 467.14152735061873),\n",
              " (46, 466.9015001267795),\n",
              " (38, 465.46643050142825),\n",
              " (23, 462.7187430526037),\n",
              " (23, 461.2672214083265),\n",
              " (15, 460.76346221658565),\n",
              " (19, 458.38822903099214),\n",
              " (25, 457.96324952407133),\n",
              " (14, 457.7108533922317),\n",
              " (45, 457.7107710791908),\n",
              " (21, 456.3293131531836),\n",
              " (15, 450.19784772413584),\n",
              " (10, 449.8816940345236),\n",
              " (27, 448.9999800596017),\n",
              " (36, 448.62024233159457),\n",
              " (25, 444.2106252405588),\n",
              " (35, 443.93419959036197),\n",
              " (47, 443.3237058517156),\n",
              " (44, 443.30864042812954),\n",
              " (27, 441.3537295288222),\n",
              " (4, 439.9587197921319),\n",
              " (25, 439.7202742910843),\n",
              " (8, 439.2740664753682),\n",
              " (24, 438.78079494067373),\n",
              " (26, 436.99858123207673),\n",
              " (28, 435.10879398872186),\n",
              " (30, 435.0083811308502),\n",
              " (36, 434.9527918938164),\n",
              " (25, 434.53472037701016),\n",
              " (20, 430.59371858551884),\n",
              " (40, 430.21942180308537),\n",
              " (18, 429.0596311739572),\n",
              " (28, 428.7976170369213),\n",
              " (20, 427.7203750373784),\n",
              " (32, 426.3152025275992),\n",
              " (19, 424.20473559352945),\n",
              " (10, 422.96849880991357),\n",
              " (19, 422.61495673254376),\n",
              " (47, 419.7855518655568),\n",
              " (39, 419.53360534034715),\n",
              " (9, 417.9757174314982),\n",
              " (28, 417.51531156016785),\n",
              " (44, 417.13899381836086),\n",
              " (28, 416.0712865788137),\n",
              " (19, 415.2916421908236),\n",
              " (36, 414.12976414964936),\n",
              " (1, 413.7799981996733),\n",
              " (14, 413.4149760534509),\n",
              " (48, 411.7808196030344),\n",
              " (44, 408.49027364190545),\n",
              " (50, 405.7561252834722),\n",
              " (19, 405.57648105096393),\n",
              " (49, 405.2168758591636),\n",
              " (33, 404.6489334907574),\n",
              " (20, 403.3168990031425),\n",
              " (4, 403.0450513627155),\n",
              " (22, 402.89054938780595),\n",
              " (16, 401.76873699501976),\n",
              " (42, 399.3581884749216),\n",
              " (34, 398.8899489750008),\n",
              " (34, 398.5801373572469),\n",
              " (20, 398.3064743998032),\n",
              " (5, 397.5065425191199),\n",
              " (21, 396.04270326232574),\n",
              " (16, 394.4253901110175),\n",
              " (23, 393.5408454432007),\n",
              " (16, 391.2191034255143),\n",
              " (38, 390.6368731160231),\n",
              " (1, 388.8905466887198),\n",
              " (47, 388.4872496893375),\n",
              " (23, 387.25483789779025),\n",
              " (47, 385.26005040541463),\n",
              " (12, 385.253345048809),\n",
              " (43, 385.0737614210712),\n",
              " (24, 383.24444340431813),\n",
              " (1, 381.3724303611411),\n",
              " (10, 378.6640037779091),\n",
              " (9, 377.1890669873934),\n",
              " (26, 376.11233779805207),\n",
              " (23, 376.05808125670836),\n",
              " (3, 375.07352931464465),\n",
              " (22, 372.51995890917186),\n",
              " (49, 371.2170548009676),\n",
              " (20, 370.76156227559795),\n",
              " (13, 368.8641908984167),\n",
              " (10, 367.1274568807936),\n",
              " (4, 367.0659512471868),\n",
              " (22, 366.49890131755103),\n",
              " (47, 364.63096723373),\n",
              " (36, 362.47045910336476),\n",
              " (49, 361.4692368819168),\n",
              " (11, 361.3853982096613),\n",
              " (13, 359.110713682954),\n",
              " (14, 354.94540369337534),\n",
              " (46, 354.8573958174608),\n",
              " (2, 353.42500375850756),\n",
              " (10, 353.37412197221147),\n",
              " (36, 353.35805182160385),\n",
              " (33, 352.52513317577456),\n",
              " (16, 352.4273708950741),\n",
              " (48, 352.4132042086054),\n",
              " (30, 351.73501645962915),\n",
              " (19, 350.83909877018687),\n",
              " (1, 350.5942335151625),\n",
              " (8, 348.04133092041866),\n",
              " (18, 347.5291544298278),\n",
              " (5, 346.2736546801585),\n",
              " (8, 346.26913580296315),\n",
              " (37, 344.17860045858896),\n",
              " (47, 344.0368955755827),\n",
              " (17, 343.87720435245626),\n",
              " (1, 340.5219759384878),\n",
              " (8, 339.4511940913601),\n",
              " (28, 337.7092482418932),\n",
              " (34, 337.5797634270419),\n",
              " (2, 337.56606832155126),\n",
              " (36, 337.41393086138396),\n",
              " (35, 336.8551760354182),\n",
              " (25, 336.43571265636876),\n",
              " (10, 335.87457452154325),\n",
              " (35, 334.98817203024385),\n",
              " (44, 334.71643092189606),\n",
              " (34, 334.31663524366223),\n",
              " (36, 332.63438491012346),\n",
              " (40, 331.80676219597035),\n",
              " (21, 331.7487650644005),\n",
              " (27, 330.04222737319407),\n",
              " (21, 329.5655556937657),\n",
              " (12, 329.10223529115086),\n",
              " (25, 328.4673790080095),\n",
              " (6, 328.4283791453458),\n",
              " (37, 328.18246328780504),\n",
              " (35, 328.11995915400524),\n",
              " (29, 327.2283511504347),\n",
              " (33, 327.1261132868819),\n",
              " (34, 326.86694472399967),\n",
              " (50, 325.7182046065047),\n",
              " (39, 325.4493035743521),\n",
              " (25, 325.28302631694163),\n",
              " (15, 323.8958171389723),\n",
              " (23, 323.82770433578276),\n",
              " (45, 323.7596664034692),\n",
              " (23, 323.2196370147602),\n",
              " (29, 320.4201455741162),\n",
              " (30, 319.655131397253),\n",
              " (39, 319.22786918701394),\n",
              " (24, 316.38654712687736),\n",
              " (22, 315.3470869452148),\n",
              " (8, 314.5946118877747),\n",
              " (30, 311.38264038863775),\n",
              " (10, 310.68117152138905),\n",
              " (9, 309.816399601398),\n",
              " (50, 305.8271775417382),\n",
              " (50, 304.8957590415386),\n",
              " (30, 303.9883248725865),\n",
              " (34, 303.57931624499645),\n",
              " (31, 301.59437728325423),\n",
              " (3, 300.13426019643146),\n",
              " (34, 300.07520558242175)]"
            ]
          },
          "metadata": {
            "tags": []
          },
          "execution_count": 38
        }
      ]
    },
    {
      "cell_type": "markdown",
      "metadata": {
        "id": "6MngYVqrRzMJ",
        "colab_type": "text"
      },
      "source": [
        "Next, let's determine how many items were bought per user. This can be solved in one line using an RDD method. After you've counted the total number of items bought per person, sort the users from most number of items bought to least number of items. Time to start a customer loyalty program!"
      ]
    },
    {
      "cell_type": "code",
      "metadata": {
        "id": "_pfkwQK-RzMJ",
        "colab_type": "code",
        "colab": {
          "base_uri": "https://localhost:8080/",
          "height": 833
        },
        "outputId": "b4def1c2-b313-4af5-8744-d564168f2544"
      },
      "source": [
        "total_items = sales_data.countByKey()\n",
        "sorted(total_items.items(),key=lambda kv:kv[1],reverse=True)"
      ],
      "execution_count": 39,
      "outputs": [
        {
          "output_type": "execute_result",
          "data": {
            "text/plain": [
              "[(35, 13),\n",
              " (39, 11),\n",
              " (34, 11),\n",
              " (37, 10),\n",
              " (16, 9),\n",
              " (24, 9),\n",
              " (11, 8),\n",
              " (31, 8),\n",
              " (21, 8),\n",
              " (2, 8),\n",
              " (42, 8),\n",
              " (38, 7),\n",
              " (18, 7),\n",
              " (26, 7),\n",
              " (10, 7),\n",
              " (22, 6),\n",
              " (27, 6),\n",
              " (25, 6),\n",
              " (12, 6),\n",
              " (3, 6),\n",
              " (7, 6),\n",
              " (23, 6),\n",
              " (17, 6),\n",
              " (8, 5),\n",
              " (20, 5),\n",
              " (29, 5),\n",
              " (49, 5),\n",
              " (41, 5),\n",
              " (32, 5),\n",
              " (4, 5),\n",
              " (36, 4),\n",
              " (13, 4),\n",
              " (9, 4),\n",
              " (33, 4),\n",
              " (6, 4),\n",
              " (50, 4),\n",
              " (44, 4),\n",
              " (19, 4),\n",
              " (48, 3),\n",
              " (1, 3),\n",
              " (28, 3),\n",
              " (47, 3),\n",
              " (14, 3),\n",
              " (43, 2),\n",
              " (5, 2),\n",
              " (45, 2),\n",
              " (46, 2),\n",
              " (30, 1)]"
            ]
          },
          "metadata": {
            "tags": []
          },
          "execution_count": 39
        }
      ]
    },
    {
      "cell_type": "markdown",
      "metadata": {
        "id": "NdiTfIffRzML",
        "colab_type": "text"
      },
      "source": [
        "### Additional Reading\n",
        "\n",
        "- [The original paper on RDDs](https://cs.stanford.edu/~matei/papers/2012/nsdi_spark.pdf)\n",
        "- [RDDs in Apache Spark](https://data-flair.training/blogs/create-rdds-in-apache-spark/)\n",
        "- [Programming with RDDs](https://runawayhorse001.github.io/LearningApacheSpark/rdd.html)\n",
        "- [RDD Transformations and Actions Summary](https://www.analyticsvidhya.com/blog/2016/10/using-pyspark-to-perform-transformations-and-actions-on-rdd/)"
      ]
    },
    {
      "cell_type": "markdown",
      "metadata": {
        "id": "60EFI48HRzML",
        "colab_type": "text"
      },
      "source": [
        "## Summary\n",
        "\n",
        "In this lab we went through a brief introduction to RDD creation from a Python collection, setting a number of logical partitions for an RDD and extracting lineage. We also used transformations and actions to perform calculations across RDDs on a distributed setup. In the next lab, you'll get the chance to apply these transformations on different books to calculate word counts and various statistics.\n"
      ]
    }
  ]
}